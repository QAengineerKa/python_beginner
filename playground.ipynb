{
  "nbformat": 4,
  "nbformat_minor": 0,
  "metadata": {
    "colab": {
      "name": "playground.ipynb",
      "provenance": [],
      "mount_file_id": "1ywIUc9txSiPNP49ac1ZRdqS4hvuY-D6D",
      "authorship_tag": "ABX9TyPK1evn0cmJVcZLDm8MShzi",
      "include_colab_link": true
    },
    "kernelspec": {
      "name": "python3",
      "display_name": "Python 3"
    },
    "language_info": {
      "name": "python"
    }
  },
  "cells": [
    {
      "cell_type": "markdown",
      "metadata": {
        "id": "view-in-github",
        "colab_type": "text"
      },
      "source": [
        "<a href=\"https://colab.research.google.com/github/QAengineerKa/python_beginner/blob/playground/playground.ipynb\" target=\"_parent\"><img src=\"https://colab.research.google.com/assets/colab-badge.svg\" alt=\"Open In Colab\"/></a>"
      ]
    },
    {
      "cell_type": "markdown",
      "source": [
        "Ekaterina Karpova first steps"
      ],
      "metadata": {
        "id": "HB1b9rGg1Tuy"
      }
    },
    {
      "cell_type": "code",
      "execution_count": null,
      "metadata": {
        "colab": {
          "base_uri": "https://localhost:8080/"
        },
        "id": "4cka7Km0t0oU",
        "outputId": "27c5d43c-ff67-4f6a-86e8-09a487b6d569"
      },
      "outputs": [
        {
          "output_type": "stream",
          "name": "stdout",
          "text": [
            "hello, world!\n",
            "hi\n"
          ]
        }
      ],
      "source": [
        "print('hello, world!')\n",
        "print('hi')"
      ]
    }
  ]
}